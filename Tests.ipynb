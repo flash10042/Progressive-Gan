{
 "cells": [
  {
   "cell_type": "code",
   "execution_count": 1,
   "metadata": {},
   "outputs": [
    {
     "name": "stderr",
     "output_type": "stream",
     "text": [
      "Matplotlib created a temporary config/cache directory at /tmp/matplotlib-h3tigrud because the default path (/.config/matplotlib) is not a writable directory; it is highly recommended to set the MPLCONFIGDIR environment variable to a writable directory, in particular to speed up the import of Matplotlib and to better support multiprocessing.\n"
     ]
    }
   ],
   "source": [
    "from PIL import Image\n",
    "from os import path, listdir\n",
    "import numpy as np\n",
    "from random import sample\n",
    "import matplotlib.pyplot as plt\n",
    "from tqdm.notebook import tqdm"
   ]
  },
  {
   "cell_type": "code",
   "execution_count": 2,
   "metadata": {},
   "outputs": [],
   "source": [
    "import tensorflow as tf\n",
    "from tensorflow.keras.layers import Activation, Conv2D, Conv2DTranspose, Dense, MaxPool2D, LeakyReLU, \\\n",
    "BatchNormalization, Dropout, Reshape, Flatten, RepeatVector, Add, ReLU, GlobalAveragePooling2D, AveragePooling2D, \\\n",
    "UpSampling2D, Layer\n",
    "from tensorflow.keras import Model, Input, Sequential\n",
    "from tensorflow.keras.optimizers import Adam, RMSprop\n",
    "from tensorflow.keras.constraints import  max_norm\n",
    "from tensorflow.keras.initializers import RandomNormal\n",
    "from tensorflow.keras import backend"
   ]
  },
  {
   "cell_type": "code",
   "execution_count": 3,
   "metadata": {},
   "outputs": [],
   "source": [
    "FOLDER = 'train'\n",
    "PROGRESS_FOLDER = 'progress'\n",
    "LATENT_FEATURES_SIZE = 98\n",
    "IN_DIM = 4\n",
    "INITIAL_SHAPE = (IN_DIM, IN_DIM, 3)\n",
    "TRAIN = list(map(lambda x: path.join(FOLDER, x), listdir(FOLDER)))"
   ]
  },
  {
   "cell_type": "code",
   "execution_count": 4,
   "metadata": {},
   "outputs": [],
   "source": [
    "class PixelNorm(Layer):\n",
    "    def __init__(self, **kwargs):\n",
    "        super(PixelNorm, self).__init__(**kwargs)\n",
    "        \n",
    "        \n",
    "    def call(self, data):\n",
    "        squared = data**2\n",
    "        mean = backend.mean(squared, axis=-1, keepdims=True)\n",
    "        norm = backend.sqrt(mean + 1.0e-8)\n",
    "        return data / norm\n",
    "    \n",
    "    \n",
    "    def compute_output_shape(self, input_shape):\n",
    "        return input_shape"
   ]
  },
  {
   "cell_type": "code",
   "execution_count": 5,
   "metadata": {},
   "outputs": [],
   "source": [
    "class WeightedSum(Add):\n",
    "    def __init__(self, alpha=0.0, **kwargs):\n",
    "        super(WeightedSum, self).__init__(**kwargs)\n",
    "        self.alpha = backend.variable(alpha, name='WS_alpha')\n",
    "        \n",
    "    \n",
    "    def _merge_function(self, data):\n",
    "        assert (len(data) == 2)\n",
    "        blended = (1.0 - self.alpha) * data[0] + self.alpha * data[1]\n",
    "        return blended"
   ]
  },
  {
   "cell_type": "code",
   "execution_count": 6,
   "metadata": {},
   "outputs": [],
   "source": [
    "class MinibatchStdev(Layer):\n",
    "    def __init__(self, **kwargs):\n",
    "        super(MinibatchStdev, self).__init__(**kwargs)\n",
    "        \n",
    "    \n",
    "    def call(self, data):\n",
    "        mean = backend.mean(data, axis=0, keepdims=True)\n",
    "        sq_diff = backend.square(data - mean)\n",
    "        var = backend.mean(sq_diff, axis=0, keepdims=True)\n",
    "        stdev = backend.sqrt(var + 1.0e-8)\n",
    "        stds_mean = backend.mean(stdev, keepdims=True)\n",
    "        \n",
    "        shape = backend.shape(data)\n",
    "        output = backend.tile(stds_mean, (shape[0], shape[1], shape[2], 1))\n",
    "        combined = backend.concatenate([data, output], axis=-1)\n",
    "        return combined\n",
    "    \n",
    "    \n",
    "    def compute_output_shape(self, input_shape):\n",
    "        input_shape = list(input_shape)\n",
    "        input_shape[-1] += 1\n",
    "        return tuple(input_shape)"
   ]
  },
  {
   "cell_type": "code",
   "execution_count": 7,
   "metadata": {},
   "outputs": [],
   "source": [
    "def wasserstein_loss(y_true, y_pred):\n",
    "    return backend.mean(y_true * y_pred)"
   ]
  },
  {
   "cell_type": "code",
   "execution_count": 8,
   "metadata": {},
   "outputs": [],
   "source": [
    "opt = Adam(0.0002, 0.5)#, 0.99, 10e-8)"
   ]
  },
  {
   "cell_type": "code",
   "execution_count": 9,
   "metadata": {},
   "outputs": [],
   "source": [
    "### GENERATOR\n",
    "\n",
    "def add_generator_block(model):\n",
    "    initializer = RandomNormal(stddev=0.02)\n",
    "    constraint = max_norm(1.0)\n",
    "    \n",
    "    pre_output = model.layers[-2].output\n",
    "    \n",
    "    upsampling = UpSampling2D()(pre_output)\n",
    "    \n",
    "    X = Conv2D(128, 3, padding='same', kernel_initializer=initializer, kernel_constraint=constraint)(upsampling)\n",
    "    X = PixelNorm()(X)\n",
    "    X = LeakyReLU(0.2)(X)\n",
    "    \n",
    "    X = Conv2D(128, 3, padding='same', kernel_initializer=initializer, kernel_constraint=constraint)(X)\n",
    "    X = PixelNorm()(X)\n",
    "    X = LeakyReLU(0.2)(X)\n",
    "    \n",
    "    out_1 = Conv2D(3, 1, padding='same', activation='tanh', \n",
    "                   kernel_initializer=initializer, kernel_constraint=constraint)(X)\n",
    "    \n",
    "    model_1 = Model(model.input, out_1)\n",
    "    \n",
    "    out_old = model.layers[-1]\n",
    "    out_2 = out_old(upsampling)\n",
    "    \n",
    "    merged = WeightedSum()([out_2, out_1])\n",
    "    model_2 = Model(model.input, merged)\n",
    "    \n",
    "    return [model_1, model_2]\n",
    "\n",
    "\n",
    "def init_generator(blocks_num):\n",
    "    initializer = RandomNormal(stddev=0.02)\n",
    "    constraint = max_norm(1.0)\n",
    "    \n",
    "    models = list()\n",
    "    \n",
    "    generator_input = Input(LATENT_FEATURES_SIZE)\n",
    "    \n",
    "    X = Dense(128 * IN_DIM * IN_DIM, kernel_initializer=initializer, kernel_constraint=constraint)(generator_input)\n",
    "    X = Reshape((IN_DIM, IN_DIM, 128))(X)\n",
    "    \n",
    "    X = Conv2D(128, 4, padding='same', kernel_initializer=initializer, kernel_constraint=constraint)(X)\n",
    "    X = PixelNorm()(X)\n",
    "    X = LeakyReLU(0.2)(X)\n",
    "    \n",
    "    X = Conv2D(128, 3, padding='same', kernel_initializer=initializer, kernel_constraint=constraint)(X)\n",
    "    X = PixelNorm()(X)\n",
    "    X = LeakyReLU(0.2)(X)\n",
    "    \n",
    "    out = Conv2D(3, 1, padding='same', activation='tanh', \n",
    "                 kernel_initializer=initializer, kernel_constraint=constraint)(X)\n",
    "    \n",
    "    initial_model = Model(generator_input, out)\n",
    "    models.append([initial_model, initial_model])\n",
    "    \n",
    "    for i in range(1, blocks_num):\n",
    "        old_model = models[i-1][0]\n",
    "        new_models = add_generator_block(old_model)\n",
    "        models.append(new_models)\n",
    "    return models"
   ]
  },
  {
   "cell_type": "code",
   "execution_count": 10,
   "metadata": {},
   "outputs": [],
   "source": [
    "### DISCRIMINATOR\n",
    "\n",
    "def add_discriminator_block(model):\n",
    "    initializer = RandomNormal(stddev=0.02)\n",
    "    constraint = max_norm(1.0)\n",
    "    \n",
    "    old_input_shape = list(model.input.shape)\n",
    "    new_input_shape = (old_input_shape[-2]*2, old_input_shape[-2]*2, old_input_shape[-1])\n",
    "    \n",
    "    d_input = Input(new_input_shape)\n",
    "    \n",
    "    X = Conv2D(128, 1, padding='same', kernel_initializer=initializer, kernel_constraint=constraint)(d_input)\n",
    "    X = LeakyReLU(0.2)(X)\n",
    "    \n",
    "    X = Conv2D(128, 3, padding='same', kernel_initializer=initializer, kernel_constraint=constraint)(X)\n",
    "    X = LeakyReLU(0.2)(X)\n",
    "    \n",
    "    X = Conv2D(128, 3, padding='same', kernel_initializer=initializer, kernel_constraint=constraint)(X)\n",
    "    X = LeakyReLU(0.2)(X)\n",
    "    \n",
    "    X = AveragePooling2D()(X)\n",
    "    \n",
    "    new_block = X\n",
    "    \n",
    "    for i in range(3, len(model.layers)):\n",
    "        X = model.layers[i](X)\n",
    "\n",
    "    model_1 = Model(d_input, X)\n",
    "    model_1.compile(opt, 'binary_crossentropy')\n",
    "    \n",
    "    downscaled = AveragePooling2D()(d_input)\n",
    "    old_X = model.layers[1](downscaled)\n",
    "    old_X = model.layers[2](old_X)\n",
    "    \n",
    "    X = WeightedSum()([old_X, new_block])\n",
    "    \n",
    "    for i in range(3, len(model.layers)):\n",
    "        X = model.layers[i](X)\n",
    "        \n",
    "    model_2 = Model(d_input, X)\n",
    "    model_2.compile(opt, 'binary_crossentropy')\n",
    "    \n",
    "    return [model_1, model_2]\n",
    "\n",
    "\n",
    "def init_discriminator(blocks_num):\n",
    "    initializer = RandomNormal(stddev=0.02)\n",
    "    constraint = max_norm(1.0)\n",
    "    \n",
    "    models = list()\n",
    "    \n",
    "    d_input = Input(INITIAL_SHAPE)\n",
    "    \n",
    "    X = Conv2D(128, 1, padding='same', kernel_initializer=initializer, kernel_constraint=constraint)(d_input)\n",
    "    X = LeakyReLU(0.2)(X)\n",
    "    \n",
    "    #X = MinibatchStdev()(X)\n",
    "    \n",
    "    X = Conv2D(128, 3, padding='same', kernel_initializer=initializer, kernel_constraint=constraint)(X)\n",
    "    X = LeakyReLU(0.2)(X)\n",
    "    \n",
    "    X = Conv2D(128, 4, padding='same', kernel_initializer=initializer, kernel_constraint=constraint)(X)\n",
    "    X = LeakyReLU(0.2)(X)\n",
    "    \n",
    "    X = Flatten()(X)\n",
    "    output = Dense(1, activation='sigmoid')(X)\n",
    "    \n",
    "    initial_model = Model(d_input, output)\n",
    "    initial_model.compile(opt, 'binary_crossentropy')\n",
    "    models.append([initial_model, initial_model])\n",
    "    \n",
    "    for i in range(1, blocks_num):\n",
    "        old_model = models[i-1][0]\n",
    "        new_models = add_discriminator_block(old_model)\n",
    "        models.append(new_models)\n",
    "    return models"
   ]
  },
  {
   "cell_type": "code",
   "execution_count": 11,
   "metadata": {},
   "outputs": [],
   "source": [
    "### GAN\n",
    "\n",
    "def init_gan(generators, discriminators):\n",
    "    models = list()\n",
    "    for i in range(len(generators)):\n",
    "        gs, ds = generators[i], discriminators[i]\n",
    "        \n",
    "        ds[0].trainable = False\n",
    "        ds[1].trainable = False\n",
    "        \n",
    "        model_1 = Sequential()\n",
    "        model_1.add(gs[0])\n",
    "        model_1.add(ds[0])\n",
    "        model_1.compile(opt, 'binary_crossentropy')\n",
    "        \n",
    "        model_2 = Sequential()\n",
    "        model_2.add(gs[1])\n",
    "        model_2.add(ds[1])\n",
    "        model_2.compile(opt, 'binary_crossentropy')\n",
    "        \n",
    "        models.append([model_1, model_2])\n",
    "    return models"
   ]
  },
  {
   "cell_type": "code",
   "execution_count": 12,
   "metadata": {},
   "outputs": [],
   "source": [
    "def update_alpha(models, step, n_steps):\n",
    "    alpha = step / float(n_steps - 1)\n",
    "    for model in models:\n",
    "        for layer in model.layers:\n",
    "            if isinstance(layer, WeightedSum):\n",
    "                backend.set_value(layer.alpha, alpha)"
   ]
  },
  {
   "cell_type": "code",
   "execution_count": 9,
   "metadata": {},
   "outputs": [],
   "source": [
    "def load_images(size=(128, 128)):\n",
    "    imgs = list()\n",
    "    for file in tqdm(TRAIN):\n",
    "        img = Image.open(file).resize(size).convert('RGB')\n",
    "        imgs.append(img)\n",
    "    return imgs"
   ]
  },
  {
   "cell_type": "code",
   "execution_count": 10,
   "metadata": {},
   "outputs": [
    {
     "data": {
      "application/vnd.jupyter.widget-view+json": {
       "model_id": "c8971dddb37b4913b1dfc15ea9d9a465",
       "version_major": 2,
       "version_minor": 0
      },
      "text/plain": [
       "  0%|          | 0/14389 [00:00<?, ?it/s]"
      ]
     },
     "metadata": {},
     "output_type": "display_data"
    }
   ],
   "source": [
    "IMAGES = load_images()"
   ]
  },
  {
   "cell_type": "code",
   "execution_count": 11,
   "metadata": {},
   "outputs": [],
   "source": [
    "def get_train_sample(count, size=(128, 128)):\n",
    "    imgs = list()\n",
    "    for img in sample(IMAGES, count):\n",
    "        new_img = (np.asarray(img.resize(size)) / 127.5 - 1).astype(np.float32)\n",
    "        imgs.append(new_img)\n",
    "    return np.asarray(imgs)"
   ]
  },
  {
   "cell_type": "code",
   "execution_count": 12,
   "metadata": {},
   "outputs": [],
   "source": [
    "DEMO_NOISE = np.random.normal(0, 1, (9, LATENT_FEATURES_SIZE))\n",
    "\n",
    "def show_samples(generator, name):\n",
    "    plt.figure(figsize=(16, 16))\n",
    "    preds = generator.predict(DEMO_NOISE)\n",
    "    preds = (preds + 1) / 2\n",
    "    for i, pred in enumerate(preds):\n",
    "        plt.subplot(3, 3, i+1)\n",
    "        plt.imshow(pred)\n",
    "        plt.axis('off')\n",
    "    plt.tight_layout()\n",
    "    plt.savefig(path.join(PROGRESS_FOLDER, f'{name}.png'))\n",
    "    #plt.show()\n",
    "    plt.close('all')"
   ]
  },
  {
   "cell_type": "code",
   "execution_count": 13,
   "metadata": {},
   "outputs": [],
   "source": [
    "def train_epoch(generator, discriminator, gan, epochs, batch_size, steps_per_epoch, fade=False, block_num=0):\n",
    "    \n",
    "    y_true = np.ones((batch_size, 1))\n",
    "    y_fake = np.zeros((batch_size, 1))\n",
    "    \n",
    "    total_steps = epochs * steps_per_epoch\n",
    "    \n",
    "    for epoch in range(epochs):\n",
    "        for step in tqdm(range(steps_per_epoch)):\n",
    "            \n",
    "            if fade:\n",
    "                update_alpha([generator, discriminator], step * (epoch + 1), total_steps)\n",
    "\n",
    "            noise = np.random.normal(0, 1, (batch_size, LATENT_FEATURES_SIZE))\n",
    "            fake_imgs = generator.predict(noise)\n",
    "            true_imgs = get_train_sample(batch_size, generator.output.shape[1:-1])\n",
    "\n",
    "            d_loss_real = discriminator.train_on_batch(true_imgs, y_true)\n",
    "            d_loss_fake = discriminator.train_on_batch(fake_imgs, y_fake)\n",
    "            d_loss = .5 * (d_loss_fake + d_loss_real)\n",
    "\n",
    "            noise = np.random.normal(0, 1, (batch_size, LATENT_FEATURES_SIZE))\n",
    "            g_loss = gan.train_on_batch(noise, y_true)\n",
    "            \n",
    "        print(f'Epoch: {epoch}; Discriminator loss: {d_loss}; GAN loss: {g_loss}')\n",
    "        \n",
    "        if SHOW_EVERY:\n",
    "            if not epoch % SHOW_EVERY:\n",
    "                show_samples(generator, f\"size_{generator.output.shape[1:-1]}_epoch_{epoch}_fade_{fade}\")"
   ]
  },
  {
   "cell_type": "code",
   "execution_count": 14,
   "metadata": {},
   "outputs": [],
   "source": [
    "BLOCKS = 6\n",
    "EPOCHS = (10, 20, 25, 60, 60, 60)\n",
    "STEPS_PER_EPOCH = (300, 300, 300, 300, 150, 250)\n",
    "SHOW_EVERY = 1\n",
    "BATCH_SIZE = (128, 128, 64, 32, 16, 16)\n",
    "\n",
    "assert BLOCKS == len(BATCH_SIZE)\n",
    "assert BLOCKS == len(EPOCHS)\n",
    "assert BLOCKS == len(STEPS_PER_EPOCH)"
   ]
  },
  {
   "cell_type": "code",
   "execution_count": 19,
   "metadata": {},
   "outputs": [],
   "source": [
    "gs = init_generator(BLOCKS)\n",
    "ds = init_discriminator(BLOCKS)\n",
    "gans = init_gan(gs, ds)"
   ]
  },
  {
   "cell_type": "code",
   "execution_count": 21,
   "metadata": {},
   "outputs": [
    {
     "data": {
      "application/vnd.jupyter.widget-view+json": {
       "model_id": "ea15a9673f6148f3a64f9566c29410ef",
       "version_major": 2,
       "version_minor": 0
      },
      "text/plain": [
       "  0%|          | 0/1 [00:00<?, ?it/s]"
      ]
     },
     "metadata": {},
     "output_type": "display_data"
    },
    {
     "name": "stdout",
     "output_type": "stream",
     "text": [
      "Epoch: 0; Discriminator loss: 0.87147057056427; GAN loss: 0.6376971006393433\n"
     ]
    },
    {
     "data": {
      "application/vnd.jupyter.widget-view+json": {
       "model_id": "8760908d2b824a3e9d38cf6abc09a609",
       "version_major": 2,
       "version_minor": 0
      },
      "text/plain": [
       "  0%|          | 0/2 [00:00<?, ?it/s]"
      ]
     },
     "metadata": {},
     "output_type": "display_data"
    },
    {
     "name": "stdout",
     "output_type": "stream",
     "text": [
      "WARNING:tensorflow:5 out of the last 181 calls to <function Model.make_train_function.<locals>.train_function at 0x7f655437fd90> triggered tf.function retracing. Tracing is expensive and the excessive number of tracings could be due to (1) creating @tf.function repeatedly in a loop, (2) passing tensors with different shapes, (3) passing Python objects instead of tensors. For (1), please define your @tf.function outside of the loop. For (2), @tf.function has experimental_relax_shapes=True option that relaxes argument shapes that can avoid unnecessary retracing. For (3), please refer to https://www.tensorflow.org/guide/function#controlling_retracing and https://www.tensorflow.org/api_docs/python/tf/function for  more details.\n",
      "Epoch: 0; Discriminator loss: 0.7342631816864014; GAN loss: 0.7267844676971436\n"
     ]
    },
    {
     "data": {
      "application/vnd.jupyter.widget-view+json": {
       "model_id": "53f04497534543768c0e0e9e0a4fc117",
       "version_major": 2,
       "version_minor": 0
      },
      "text/plain": [
       "  0%|          | 0/1 [00:00<?, ?it/s]"
      ]
     },
     "metadata": {},
     "output_type": "display_data"
    },
    {
     "name": "stdout",
     "output_type": "stream",
     "text": [
      "WARNING:tensorflow:6 out of the last 185 calls to <function Model.make_train_function.<locals>.train_function at 0x7f6544076378> triggered tf.function retracing. Tracing is expensive and the excessive number of tracings could be due to (1) creating @tf.function repeatedly in a loop, (2) passing tensors with different shapes, (3) passing Python objects instead of tensors. For (1), please define your @tf.function outside of the loop. For (2), @tf.function has experimental_relax_shapes=True option that relaxes argument shapes that can avoid unnecessary retracing. For (3), please refer to https://www.tensorflow.org/guide/function#controlling_retracing and https://www.tensorflow.org/api_docs/python/tf/function for  more details.\n",
      "WARNING:tensorflow:6 out of the last 12 calls to <function Model.make_train_function.<locals>.train_function at 0x7f651c1fc6a8> triggered tf.function retracing. Tracing is expensive and the excessive number of tracings could be due to (1) creating @tf.function repeatedly in a loop, (2) passing tensors with different shapes, (3) passing Python objects instead of tensors. For (1), please define your @tf.function outside of the loop. For (2), @tf.function has experimental_relax_shapes=True option that relaxes argument shapes that can avoid unnecessary retracing. For (3), please refer to https://www.tensorflow.org/guide/function#controlling_retracing and https://www.tensorflow.org/api_docs/python/tf/function for  more details.\n",
      "Epoch: 0; Discriminator loss: 0.8546325266361237; GAN loss: 0.5278357863426208\n"
     ]
    },
    {
     "data": {
      "application/vnd.jupyter.widget-view+json": {
       "model_id": "fa489f65f923480a8d7ab25d7e31e1c0",
       "version_major": 2,
       "version_minor": 0
      },
      "text/plain": [
       "  0%|          | 0/2 [00:00<?, ?it/s]"
      ]
     },
     "metadata": {},
     "output_type": "display_data"
    },
    {
     "name": "stdout",
     "output_type": "stream",
     "text": [
      "WARNING:tensorflow:5 out of the last 248 calls to <function Model.make_predict_function.<locals>.predict_function at 0x7f64b030b2f0> triggered tf.function retracing. Tracing is expensive and the excessive number of tracings could be due to (1) creating @tf.function repeatedly in a loop, (2) passing tensors with different shapes, (3) passing Python objects instead of tensors. For (1), please define your @tf.function outside of the loop. For (2), @tf.function has experimental_relax_shapes=True option that relaxes argument shapes that can avoid unnecessary retracing. For (3), please refer to https://www.tensorflow.org/guide/function#controlling_retracing and https://www.tensorflow.org/api_docs/python/tf/function for  more details.\n",
      "WARNING:tensorflow:6 out of the last 11 calls to <function Model.make_train_function.<locals>.train_function at 0x7f64b0325f28> triggered tf.function retracing. Tracing is expensive and the excessive number of tracings could be due to (1) creating @tf.function repeatedly in a loop, (2) passing tensors with different shapes, (3) passing Python objects instead of tensors. For (1), please define your @tf.function outside of the loop. For (2), @tf.function has experimental_relax_shapes=True option that relaxes argument shapes that can avoid unnecessary retracing. For (3), please refer to https://www.tensorflow.org/guide/function#controlling_retracing and https://www.tensorflow.org/api_docs/python/tf/function for  more details.\n",
      "WARNING:tensorflow:6 out of the last 12 calls to <function Model.make_train_function.<locals>.train_function at 0x7f64b0325e18> triggered tf.function retracing. Tracing is expensive and the excessive number of tracings could be due to (1) creating @tf.function repeatedly in a loop, (2) passing tensors with different shapes, (3) passing Python objects instead of tensors. For (1), please define your @tf.function outside of the loop. For (2), @tf.function has experimental_relax_shapes=True option that relaxes argument shapes that can avoid unnecessary retracing. For (3), please refer to https://www.tensorflow.org/guide/function#controlling_retracing and https://www.tensorflow.org/api_docs/python/tf/function for  more details.\n",
      "Epoch: 0; Discriminator loss: 0.6944921612739563; GAN loss: 0.7122647762298584\n"
     ]
    },
    {
     "data": {
      "application/vnd.jupyter.widget-view+json": {
       "model_id": "75fcb8e623cc4a6fb7be320c3fdbc85a",
       "version_major": 2,
       "version_minor": 0
      },
      "text/plain": [
       "  0%|          | 0/1 [00:00<?, ?it/s]"
      ]
     },
     "metadata": {},
     "output_type": "display_data"
    },
    {
     "name": "stdout",
     "output_type": "stream",
     "text": [
      "WARNING:tensorflow:5 out of the last 11 calls to <function Model.make_predict_function.<locals>.predict_function at 0x7f64a80cf8c8> triggered tf.function retracing. Tracing is expensive and the excessive number of tracings could be due to (1) creating @tf.function repeatedly in a loop, (2) passing tensors with different shapes, (3) passing Python objects instead of tensors. For (1), please define your @tf.function outside of the loop. For (2), @tf.function has experimental_relax_shapes=True option that relaxes argument shapes that can avoid unnecessary retracing. For (3), please refer to https://www.tensorflow.org/guide/function#controlling_retracing and https://www.tensorflow.org/api_docs/python/tf/function for  more details.\n",
      "WARNING:tensorflow:6 out of the last 14 calls to <function Model.make_train_function.<locals>.train_function at 0x7f64a80c6598> triggered tf.function retracing. Tracing is expensive and the excessive number of tracings could be due to (1) creating @tf.function repeatedly in a loop, (2) passing tensors with different shapes, (3) passing Python objects instead of tensors. For (1), please define your @tf.function outside of the loop. For (2), @tf.function has experimental_relax_shapes=True option that relaxes argument shapes that can avoid unnecessary retracing. For (3), please refer to https://www.tensorflow.org/guide/function#controlling_retracing and https://www.tensorflow.org/api_docs/python/tf/function for  more details.\n",
      "WARNING:tensorflow:6 out of the last 12 calls to <function Model.make_train_function.<locals>.train_function at 0x7f64a80cfa60> triggered tf.function retracing. Tracing is expensive and the excessive number of tracings could be due to (1) creating @tf.function repeatedly in a loop, (2) passing tensors with different shapes, (3) passing Python objects instead of tensors. For (1), please define your @tf.function outside of the loop. For (2), @tf.function has experimental_relax_shapes=True option that relaxes argument shapes that can avoid unnecessary retracing. For (3), please refer to https://www.tensorflow.org/guide/function#controlling_retracing and https://www.tensorflow.org/api_docs/python/tf/function for  more details.\n",
      "Epoch: 0; Discriminator loss: 0.6944455802440643; GAN loss: 0.7059067487716675\n"
     ]
    },
    {
     "data": {
      "application/vnd.jupyter.widget-view+json": {
       "model_id": "a6f585a4a2624c5ab490eae36b97ee84",
       "version_major": 2,
       "version_minor": 0
      },
      "text/plain": [
       "  0%|          | 0/2 [00:00<?, ?it/s]"
      ]
     },
     "metadata": {},
     "output_type": "display_data"
    },
    {
     "name": "stdout",
     "output_type": "stream",
     "text": [
      "WARNING:tensorflow:5 out of the last 11 calls to <function Model.make_predict_function.<locals>.predict_function at 0x7f649c39aa60> triggered tf.function retracing. Tracing is expensive and the excessive number of tracings could be due to (1) creating @tf.function repeatedly in a loop, (2) passing tensors with different shapes, (3) passing Python objects instead of tensors. For (1), please define your @tf.function outside of the loop. For (2), @tf.function has experimental_relax_shapes=True option that relaxes argument shapes that can avoid unnecessary retracing. For (3), please refer to https://www.tensorflow.org/guide/function#controlling_retracing and https://www.tensorflow.org/api_docs/python/tf/function for  more details.\n",
      "WARNING:tensorflow:6 out of the last 11 calls to <function Model.make_train_function.<locals>.train_function at 0x7f649c3457b8> triggered tf.function retracing. Tracing is expensive and the excessive number of tracings could be due to (1) creating @tf.function repeatedly in a loop, (2) passing tensors with different shapes, (3) passing Python objects instead of tensors. For (1), please define your @tf.function outside of the loop. For (2), @tf.function has experimental_relax_shapes=True option that relaxes argument shapes that can avoid unnecessary retracing. For (3), please refer to https://www.tensorflow.org/guide/function#controlling_retracing and https://www.tensorflow.org/api_docs/python/tf/function for  more details.\n",
      "WARNING:tensorflow:6 out of the last 12 calls to <function Model.make_train_function.<locals>.train_function at 0x7f649c3450d0> triggered tf.function retracing. Tracing is expensive and the excessive number of tracings could be due to (1) creating @tf.function repeatedly in a loop, (2) passing tensors with different shapes, (3) passing Python objects instead of tensors. For (1), please define your @tf.function outside of the loop. For (2), @tf.function has experimental_relax_shapes=True option that relaxes argument shapes that can avoid unnecessary retracing. For (3), please refer to https://www.tensorflow.org/guide/function#controlling_retracing and https://www.tensorflow.org/api_docs/python/tf/function for  more details.\n",
      "Epoch: 0; Discriminator loss: 0.6946216523647308; GAN loss: 0.707549512386322\n"
     ]
    },
    {
     "data": {
      "application/vnd.jupyter.widget-view+json": {
       "model_id": "ed5bfcb80e8c431a8f491a2cc903de39",
       "version_major": 2,
       "version_minor": 0
      },
      "text/plain": [
       "  0%|          | 0/1 [00:00<?, ?it/s]"
      ]
     },
     "metadata": {},
     "output_type": "display_data"
    },
    {
     "name": "stdout",
     "output_type": "stream",
     "text": [
      "WARNING:tensorflow:5 out of the last 11 calls to <function Model.make_predict_function.<locals>.predict_function at 0x7f64901fed90> triggered tf.function retracing. Tracing is expensive and the excessive number of tracings could be due to (1) creating @tf.function repeatedly in a loop, (2) passing tensors with different shapes, (3) passing Python objects instead of tensors. For (1), please define your @tf.function outside of the loop. For (2), @tf.function has experimental_relax_shapes=True option that relaxes argument shapes that can avoid unnecessary retracing. For (3), please refer to https://www.tensorflow.org/guide/function#controlling_retracing and https://www.tensorflow.org/api_docs/python/tf/function for  more details.\n",
      "WARNING:tensorflow:6 out of the last 14 calls to <function Model.make_train_function.<locals>.train_function at 0x7f64901bbae8> triggered tf.function retracing. Tracing is expensive and the excessive number of tracings could be due to (1) creating @tf.function repeatedly in a loop, (2) passing tensors with different shapes, (3) passing Python objects instead of tensors. For (1), please define your @tf.function outside of the loop. For (2), @tf.function has experimental_relax_shapes=True option that relaxes argument shapes that can avoid unnecessary retracing. For (3), please refer to https://www.tensorflow.org/guide/function#controlling_retracing and https://www.tensorflow.org/api_docs/python/tf/function for  more details.\n",
      "WARNING:tensorflow:6 out of the last 12 calls to <function Model.make_train_function.<locals>.train_function at 0x7f64901be378> triggered tf.function retracing. Tracing is expensive and the excessive number of tracings could be due to (1) creating @tf.function repeatedly in a loop, (2) passing tensors with different shapes, (3) passing Python objects instead of tensors. For (1), please define your @tf.function outside of the loop. For (2), @tf.function has experimental_relax_shapes=True option that relaxes argument shapes that can avoid unnecessary retracing. For (3), please refer to https://www.tensorflow.org/guide/function#controlling_retracing and https://www.tensorflow.org/api_docs/python/tf/function for  more details.\n",
      "Epoch: 0; Discriminator loss: 0.6943148970603943; GAN loss: 0.7075420618057251\n"
     ]
    },
    {
     "data": {
      "application/vnd.jupyter.widget-view+json": {
       "model_id": "07638626bcb24ac2bf0d75d72ebca53f",
       "version_major": 2,
       "version_minor": 0
      },
      "text/plain": [
       "  0%|          | 0/2 [00:00<?, ?it/s]"
      ]
     },
     "metadata": {},
     "output_type": "display_data"
    },
    {
     "name": "stdout",
     "output_type": "stream",
     "text": [
      "WARNING:tensorflow:5 out of the last 11 calls to <function Model.make_predict_function.<locals>.predict_function at 0x7f647849e730> triggered tf.function retracing. Tracing is expensive and the excessive number of tracings could be due to (1) creating @tf.function repeatedly in a loop, (2) passing tensors with different shapes, (3) passing Python objects instead of tensors. For (1), please define your @tf.function outside of the loop. For (2), @tf.function has experimental_relax_shapes=True option that relaxes argument shapes that can avoid unnecessary retracing. For (3), please refer to https://www.tensorflow.org/guide/function#controlling_retracing and https://www.tensorflow.org/api_docs/python/tf/function for  more details.\n",
      "WARNING:tensorflow:6 out of the last 11 calls to <function Model.make_train_function.<locals>.train_function at 0x7f647844de18> triggered tf.function retracing. Tracing is expensive and the excessive number of tracings could be due to (1) creating @tf.function repeatedly in a loop, (2) passing tensors with different shapes, (3) passing Python objects instead of tensors. For (1), please define your @tf.function outside of the loop. For (2), @tf.function has experimental_relax_shapes=True option that relaxes argument shapes that can avoid unnecessary retracing. For (3), please refer to https://www.tensorflow.org/guide/function#controlling_retracing and https://www.tensorflow.org/api_docs/python/tf/function for  more details.\n",
      "WARNING:tensorflow:6 out of the last 12 calls to <function Model.make_train_function.<locals>.train_function at 0x7f64783c6c80> triggered tf.function retracing. Tracing is expensive and the excessive number of tracings could be due to (1) creating @tf.function repeatedly in a loop, (2) passing tensors with different shapes, (3) passing Python objects instead of tensors. For (1), please define your @tf.function outside of the loop. For (2), @tf.function has experimental_relax_shapes=True option that relaxes argument shapes that can avoid unnecessary retracing. For (3), please refer to https://www.tensorflow.org/guide/function#controlling_retracing and https://www.tensorflow.org/api_docs/python/tf/function for  more details.\n",
      "Epoch: 0; Discriminator loss: 0.6939064264297485; GAN loss: 0.7065640687942505\n"
     ]
    },
    {
     "data": {
      "application/vnd.jupyter.widget-view+json": {
       "model_id": "a49d90fe1bd5454aa4ee3d1e43651d18",
       "version_major": 2,
       "version_minor": 0
      },
      "text/plain": [
       "  0%|          | 0/1 [00:00<?, ?it/s]"
      ]
     },
     "metadata": {},
     "output_type": "display_data"
    },
    {
     "name": "stdout",
     "output_type": "stream",
     "text": [
      "WARNING:tensorflow:5 out of the last 11 calls to <function Model.make_predict_function.<locals>.predict_function at 0x7f646d1e6158> triggered tf.function retracing. Tracing is expensive and the excessive number of tracings could be due to (1) creating @tf.function repeatedly in a loop, (2) passing tensors with different shapes, (3) passing Python objects instead of tensors. For (1), please define your @tf.function outside of the loop. For (2), @tf.function has experimental_relax_shapes=True option that relaxes argument shapes that can avoid unnecessary retracing. For (3), please refer to https://www.tensorflow.org/guide/function#controlling_retracing and https://www.tensorflow.org/api_docs/python/tf/function for  more details.\n",
      "WARNING:tensorflow:6 out of the last 14 calls to <function Model.make_train_function.<locals>.train_function at 0x7f646d103048> triggered tf.function retracing. Tracing is expensive and the excessive number of tracings could be due to (1) creating @tf.function repeatedly in a loop, (2) passing tensors with different shapes, (3) passing Python objects instead of tensors. For (1), please define your @tf.function outside of the loop. For (2), @tf.function has experimental_relax_shapes=True option that relaxes argument shapes that can avoid unnecessary retracing. For (3), please refer to https://www.tensorflow.org/guide/function#controlling_retracing and https://www.tensorflow.org/api_docs/python/tf/function for  more details.\n",
      "WARNING:tensorflow:6 out of the last 12 calls to <function Model.make_train_function.<locals>.train_function at 0x7f646d1c3b70> triggered tf.function retracing. Tracing is expensive and the excessive number of tracings could be due to (1) creating @tf.function repeatedly in a loop, (2) passing tensors with different shapes, (3) passing Python objects instead of tensors. For (1), please define your @tf.function outside of the loop. For (2), @tf.function has experimental_relax_shapes=True option that relaxes argument shapes that can avoid unnecessary retracing. For (3), please refer to https://www.tensorflow.org/guide/function#controlling_retracing and https://www.tensorflow.org/api_docs/python/tf/function for  more details.\n",
      "Epoch: 0; Discriminator loss: 0.6937789022922516; GAN loss: 0.7063304781913757\n"
     ]
    },
    {
     "data": {
      "application/vnd.jupyter.widget-view+json": {
       "model_id": "f484dc7933b14f7ba678aa773fba861c",
       "version_major": 2,
       "version_minor": 0
      },
      "text/plain": [
       "  0%|          | 0/2 [00:00<?, ?it/s]"
      ]
     },
     "metadata": {},
     "output_type": "display_data"
    },
    {
     "name": "stdout",
     "output_type": "stream",
     "text": [
      "WARNING:tensorflow:5 out of the last 11 calls to <function Model.make_predict_function.<locals>.predict_function at 0x7f6478158840> triggered tf.function retracing. Tracing is expensive and the excessive number of tracings could be due to (1) creating @tf.function repeatedly in a loop, (2) passing tensors with different shapes, (3) passing Python objects instead of tensors. For (1), please define your @tf.function outside of the loop. For (2), @tf.function has experimental_relax_shapes=True option that relaxes argument shapes that can avoid unnecessary retracing. For (3), please refer to https://www.tensorflow.org/guide/function#controlling_retracing and https://www.tensorflow.org/api_docs/python/tf/function for  more details.\n",
      "WARNING:tensorflow:6 out of the last 11 calls to <function Model.make_train_function.<locals>.train_function at 0x7f646b37b840> triggered tf.function retracing. Tracing is expensive and the excessive number of tracings could be due to (1) creating @tf.function repeatedly in a loop, (2) passing tensors with different shapes, (3) passing Python objects instead of tensors. For (1), please define your @tf.function outside of the loop. For (2), @tf.function has experimental_relax_shapes=True option that relaxes argument shapes that can avoid unnecessary retracing. For (3), please refer to https://www.tensorflow.org/guide/function#controlling_retracing and https://www.tensorflow.org/api_docs/python/tf/function for  more details.\n",
      "WARNING:tensorflow:6 out of the last 12 calls to <function Model.make_train_function.<locals>.train_function at 0x7f646aaf1bf8> triggered tf.function retracing. Tracing is expensive and the excessive number of tracings could be due to (1) creating @tf.function repeatedly in a loop, (2) passing tensors with different shapes, (3) passing Python objects instead of tensors. For (1), please define your @tf.function outside of the loop. For (2), @tf.function has experimental_relax_shapes=True option that relaxes argument shapes that can avoid unnecessary retracing. For (3), please refer to https://www.tensorflow.org/guide/function#controlling_retracing and https://www.tensorflow.org/api_docs/python/tf/function for  more details.\n",
      "Epoch: 0; Discriminator loss: 0.6937201917171478; GAN loss: 0.7061775922775269\n"
     ]
    },
    {
     "data": {
      "application/vnd.jupyter.widget-view+json": {
       "model_id": "07442b88c1834fe7b4a86dd2a7aa4ffa",
       "version_major": 2,
       "version_minor": 0
      },
      "text/plain": [
       "  0%|          | 0/1 [00:00<?, ?it/s]"
      ]
     },
     "metadata": {},
     "output_type": "display_data"
    },
    {
     "name": "stdout",
     "output_type": "stream",
     "text": [
      "WARNING:tensorflow:5 out of the last 11 calls to <function Model.make_predict_function.<locals>.predict_function at 0x7f646906cb70> triggered tf.function retracing. Tracing is expensive and the excessive number of tracings could be due to (1) creating @tf.function repeatedly in a loop, (2) passing tensors with different shapes, (3) passing Python objects instead of tensors. For (1), please define your @tf.function outside of the loop. For (2), @tf.function has experimental_relax_shapes=True option that relaxes argument shapes that can avoid unnecessary retracing. For (3), please refer to https://www.tensorflow.org/guide/function#controlling_retracing and https://www.tensorflow.org/api_docs/python/tf/function for  more details.\n",
      "WARNING:tensorflow:6 out of the last 14 calls to <function Model.make_train_function.<locals>.train_function at 0x7f6468fca9d8> triggered tf.function retracing. Tracing is expensive and the excessive number of tracings could be due to (1) creating @tf.function repeatedly in a loop, (2) passing tensors with different shapes, (3) passing Python objects instead of tensors. For (1), please define your @tf.function outside of the loop. For (2), @tf.function has experimental_relax_shapes=True option that relaxes argument shapes that can avoid unnecessary retracing. For (3), please refer to https://www.tensorflow.org/guide/function#controlling_retracing and https://www.tensorflow.org/api_docs/python/tf/function for  more details.\n",
      "WARNING:tensorflow:6 out of the last 12 calls to <function Model.make_train_function.<locals>.train_function at 0x7f646906c6a8> triggered tf.function retracing. Tracing is expensive and the excessive number of tracings could be due to (1) creating @tf.function repeatedly in a loop, (2) passing tensors with different shapes, (3) passing Python objects instead of tensors. For (1), please define your @tf.function outside of the loop. For (2), @tf.function has experimental_relax_shapes=True option that relaxes argument shapes that can avoid unnecessary retracing. For (3), please refer to https://www.tensorflow.org/guide/function#controlling_retracing and https://www.tensorflow.org/api_docs/python/tf/function for  more details.\n",
      "Epoch: 0; Discriminator loss: 0.6936983466148376; GAN loss: 0.706085205078125\n"
     ]
    }
   ],
   "source": [
    "### TRAIN ?\n",
    "\n",
    "train_epoch(gs[0][0], ds[0][0], gans[0][0], EPOCHS[0], BATCH_SIZE[0], STEPS_PER_EPOCH[0])\n",
    "\n",
    "for i in range(1, len(gs)):\n",
    "    \n",
    "    g_straight, g_fadein = gs[i]\n",
    "    d_straight, d_fadein = ds[i]\n",
    "    gan_straight, gan_fadein = gans[i]\n",
    "    \n",
    "    train_epoch(g_fadein, d_fadein, gan_fadein, EPOCHS[i]//4, BATCH_SIZE[i], STEPS_PER_EPOCH[i], True, i)\n",
    "    \n",
    "    train_epoch(g_straight, d_straight, gan_straight, EPOCHS[i], BATCH_SIZE[i], STEPS_PER_EPOCH[i])"
   ]
  },
  {
   "cell_type": "code",
   "execution_count": 15,
   "metadata": {},
   "outputs": [],
   "source": [
    "### TESTS"
   ]
  },
  {
   "cell_type": "code",
   "execution_count": 55,
   "metadata": {},
   "outputs": [],
   "source": [
    "from tensorflow.keras.models import load_model"
   ]
  },
  {
   "cell_type": "code",
   "execution_count": 61,
   "metadata": {},
   "outputs": [
    {
     "name": "stdout",
     "output_type": "stream",
     "text": [
      "WARNING:tensorflow:No training configuration found in save file, so the model was *not* compiled. Compile it manually.\n"
     ]
    }
   ],
   "source": [
    "generator = load_model('generator/')\n",
    "discriminator = load_model('discriminator/')"
   ]
  },
  {
   "cell_type": "code",
   "execution_count": 62,
   "metadata": {},
   "outputs": [],
   "source": [
    "gan_input = Input(LATENT_FEATURES_SIZE)\n",
    "\n",
    "fake_img = generator(gan_input)\n",
    "\n",
    "gan_output = discriminator(fake_img)\n",
    "\n",
    "gan = Model(gan_input, gan_output)\n",
    "gan.compile(opt, 'binary_crossentropy')"
   ]
  },
  {
   "cell_type": "code",
   "execution_count": 63,
   "metadata": {},
   "outputs": [
    {
     "data": {
      "application/vnd.jupyter.widget-view+json": {
       "model_id": "2e367945e7c9448e96da2d44ec6c75e3",
       "version_major": 2,
       "version_minor": 0
      },
      "text/plain": [
       "  0%|          | 0/100 [00:00<?, ?it/s]"
      ]
     },
     "metadata": {},
     "output_type": "display_data"
    },
    {
     "name": "stdout",
     "output_type": "stream",
     "text": [
      "Epoch: 0; Discriminator loss: 7.90080638602376; GAN loss: 1.1772792731790105e-06\n"
     ]
    }
   ],
   "source": [
    "train_epoch(generator, discriminator, gan, 1, 16, 100)"
   ]
  },
  {
   "cell_type": "code",
   "execution_count": 65,
   "metadata": {},
   "outputs": [
    {
     "data": {
      "image/png": "[encoded data removed]",
      "text/plain": [
       "<Figure size 432x288 with 9 Axes>"
      ]
     },
     "metadata": {
      "needs_background": "light"
     },
     "output_type": "display_data"
    }
   ],
   "source": [
    "DEMO_NOISE = np.random.normal(0, 1, (9, LATENT_FEATURES_SIZE))\n",
    "\n",
    "preds = generator.predict(DEMO_NOISE)\n",
    "preds = (preds + 1) / 2\n",
    "for i, pred in enumerate(preds):\n",
    "    plt.subplot(3, 3, i+1)\n",
    "    plt.imshow(pred)\n",
    "    plt.axis('off')\n",
    "plt.tight_layout()\n",
    "plt.show()"
   ]
  },
  {
   "cell_type": "code",
   "execution_count": 46,
   "metadata": {},
   "outputs": [],
   "source": [
    "Image.fromarray((preds[1]*255).astype(np.uint8)).save('test1.png')"
   ]
  },
  {
   "cell_type": "code",
   "execution_count": null,
   "metadata": {},
   "outputs": [],
   "source": []
  }
 ],
 "metadata": {
  "kernelspec": {
   "display_name": "Python 3",
   "language": "python",
   "name": "python3"
  },
  "language_info": {
   "codemirror_mode": {
    "name": "ipython",
    "version": 3
   },
   "file_extension": ".py",
   "mimetype": "text/x-python",
   "name": "python",
   "nbconvert_exporter": "python",
   "pygments_lexer": "ipython3",
   "version": "3.6.9"
  }
 },
 "nbformat": 4,
 "nbformat_minor": 2
}
